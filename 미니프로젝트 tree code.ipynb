{
 "cells": [
  {
   "cell_type": "markdown",
   "metadata": {},
   "source": [
    "# Tree모델 돌리기\n",
    "\n",
    "### 1. 데이터 준비"
   ]
  },
  {
   "cell_type": "code",
   "execution_count": 1,
   "metadata": {},
   "outputs": [
    {
     "data": {
      "text/html": [
       "<div>\n",
       "<style scoped>\n",
       "    .dataframe tbody tr th:only-of-type {\n",
       "        vertical-align: middle;\n",
       "    }\n",
       "\n",
       "    .dataframe tbody tr th {\n",
       "        vertical-align: top;\n",
       "    }\n",
       "\n",
       "    .dataframe thead th {\n",
       "        text-align: right;\n",
       "    }\n",
       "</style>\n",
       "<table border=\"1\" class=\"dataframe\">\n",
       "  <thead>\n",
       "    <tr style=\"text-align: right;\">\n",
       "      <th></th>\n",
       "      <th>Unnamed: 0</th>\n",
       "      <th>id</th>\n",
       "      <th>date</th>\n",
       "      <th>price</th>\n",
       "      <th>bedrooms</th>\n",
       "      <th>bathrooms</th>\n",
       "      <th>sqft_living</th>\n",
       "      <th>sqft_lot</th>\n",
       "      <th>floors</th>\n",
       "      <th>waterfront</th>\n",
       "      <th>...</th>\n",
       "      <th>sqft_lot15</th>\n",
       "      <th>total_rooms</th>\n",
       "      <th>sqft_ratio</th>\n",
       "      <th>sqft_total_size</th>\n",
       "      <th>sqft_ratio_1</th>\n",
       "      <th>sqft_ratio15</th>\n",
       "      <th>is_renovated</th>\n",
       "      <th>per_price</th>\n",
       "      <th>var</th>\n",
       "      <th>mean</th>\n",
       "    </tr>\n",
       "  </thead>\n",
       "  <tbody>\n",
       "    <tr>\n",
       "      <td>0</td>\n",
       "      <td>0</td>\n",
       "      <td>0</td>\n",
       "      <td>20141013</td>\n",
       "      <td>12.309987</td>\n",
       "      <td>3</td>\n",
       "      <td>1.00</td>\n",
       "      <td>7.074117</td>\n",
       "      <td>8.639588</td>\n",
       "      <td>1.0</td>\n",
       "      <td>0</td>\n",
       "      <td>...</td>\n",
       "      <td>5650</td>\n",
       "      <td>4.00</td>\n",
       "      <td>0.818803</td>\n",
       "      <td>7.074117</td>\n",
       "      <td>1.0</td>\n",
       "      <td>0.237168</td>\n",
       "      <td>0</td>\n",
       "      <td>1.740145</td>\n",
       "      <td>0.171641</td>\n",
       "      <td>1.324285</td>\n",
       "    </tr>\n",
       "    <tr>\n",
       "      <td>1</td>\n",
       "      <td>1</td>\n",
       "      <td>1</td>\n",
       "      <td>20150225</td>\n",
       "      <td>12.100718</td>\n",
       "      <td>2</td>\n",
       "      <td>1.00</td>\n",
       "      <td>6.647688</td>\n",
       "      <td>9.210440</td>\n",
       "      <td>1.0</td>\n",
       "      <td>0</td>\n",
       "      <td>...</td>\n",
       "      <td>8062</td>\n",
       "      <td>3.00</td>\n",
       "      <td>0.721756</td>\n",
       "      <td>6.647688</td>\n",
       "      <td>1.0</td>\n",
       "      <td>0.337385</td>\n",
       "      <td>0</td>\n",
       "      <td>1.820290</td>\n",
       "      <td>0.153971</td>\n",
       "      <td>1.392626</td>\n",
       "    </tr>\n",
       "    <tr>\n",
       "      <td>2</td>\n",
       "      <td>2</td>\n",
       "      <td>2</td>\n",
       "      <td>20150218</td>\n",
       "      <td>13.142168</td>\n",
       "      <td>3</td>\n",
       "      <td>2.00</td>\n",
       "      <td>7.427144</td>\n",
       "      <td>8.997271</td>\n",
       "      <td>1.0</td>\n",
       "      <td>0</td>\n",
       "      <td>...</td>\n",
       "      <td>7503</td>\n",
       "      <td>5.00</td>\n",
       "      <td>0.825489</td>\n",
       "      <td>7.427144</td>\n",
       "      <td>1.0</td>\n",
       "      <td>0.239904</td>\n",
       "      <td>0</td>\n",
       "      <td>1.769478</td>\n",
       "      <td>0.111248</td>\n",
       "      <td>1.522484</td>\n",
       "    </tr>\n",
       "    <tr>\n",
       "      <td>3</td>\n",
       "      <td>3</td>\n",
       "      <td>3</td>\n",
       "      <td>20140627</td>\n",
       "      <td>12.458779</td>\n",
       "      <td>3</td>\n",
       "      <td>2.25</td>\n",
       "      <td>7.447751</td>\n",
       "      <td>8.827615</td>\n",
       "      <td>2.0</td>\n",
       "      <td>0</td>\n",
       "      <td>...</td>\n",
       "      <td>6819</td>\n",
       "      <td>5.25</td>\n",
       "      <td>0.843688</td>\n",
       "      <td>7.447751</td>\n",
       "      <td>1.0</td>\n",
       "      <td>0.328201</td>\n",
       "      <td>0</td>\n",
       "      <td>1.672824</td>\n",
       "      <td>0.135985</td>\n",
       "      <td>1.426763</td>\n",
       "    </tr>\n",
       "    <tr>\n",
       "      <td>4</td>\n",
       "      <td>4</td>\n",
       "      <td>4</td>\n",
       "      <td>20150115</td>\n",
       "      <td>12.583999</td>\n",
       "      <td>3</td>\n",
       "      <td>1.50</td>\n",
       "      <td>6.966967</td>\n",
       "      <td>9.181118</td>\n",
       "      <td>1.0</td>\n",
       "      <td>0</td>\n",
       "      <td>...</td>\n",
       "      <td>9711</td>\n",
       "      <td>4.50</td>\n",
       "      <td>0.758837</td>\n",
       "      <td>6.966967</td>\n",
       "      <td>1.0</td>\n",
       "      <td>0.169910</td>\n",
       "      <td>0</td>\n",
       "      <td>1.806238</td>\n",
       "      <td>0.143851</td>\n",
       "      <td>1.439939</td>\n",
       "    </tr>\n",
       "  </tbody>\n",
       "</table>\n",
       "<p>5 rows × 31 columns</p>\n",
       "</div>"
      ],
      "text/plain": [
       "   Unnamed: 0  id      date      price  bedrooms  bathrooms  sqft_living  \\\n",
       "0           0   0  20141013  12.309987         3       1.00     7.074117   \n",
       "1           1   1  20150225  12.100718         2       1.00     6.647688   \n",
       "2           2   2  20150218  13.142168         3       2.00     7.427144   \n",
       "3           3   3  20140627  12.458779         3       2.25     7.447751   \n",
       "4           4   4  20150115  12.583999         3       1.50     6.966967   \n",
       "\n",
       "   sqft_lot  floors  waterfront  ...  sqft_lot15  total_rooms  sqft_ratio  \\\n",
       "0  8.639588     1.0           0  ...        5650         4.00    0.818803   \n",
       "1  9.210440     1.0           0  ...        8062         3.00    0.721756   \n",
       "2  8.997271     1.0           0  ...        7503         5.00    0.825489   \n",
       "3  8.827615     2.0           0  ...        6819         5.25    0.843688   \n",
       "4  9.181118     1.0           0  ...        9711         4.50    0.758837   \n",
       "\n",
       "   sqft_total_size  sqft_ratio_1  sqft_ratio15  is_renovated  per_price  \\\n",
       "0         7.074117           1.0      0.237168             0   1.740145   \n",
       "1         6.647688           1.0      0.337385             0   1.820290   \n",
       "2         7.427144           1.0      0.239904             0   1.769478   \n",
       "3         7.447751           1.0      0.328201             0   1.672824   \n",
       "4         6.966967           1.0      0.169910             0   1.806238   \n",
       "\n",
       "        var      mean  \n",
       "0  0.171641  1.324285  \n",
       "1  0.153971  1.392626  \n",
       "2  0.111248  1.522484  \n",
       "3  0.135985  1.426763  \n",
       "4  0.143851  1.439939  \n",
       "\n",
       "[5 rows x 31 columns]"
      ]
     },
     "execution_count": 1,
     "metadata": {},
     "output_type": "execute_result"
    }
   ],
   "source": [
    "import pandas as pd\n",
    "import numpy as np\n",
    "\n",
    "df= pd.read_csv('train1.csv')\n",
    "df_test = pd.read_csv('test1.csv')\n",
    "df.head()"
   ]
  },
  {
   "cell_type": "code",
   "execution_count": 2,
   "metadata": {},
   "outputs": [
    {
     "name": "stdout",
     "output_type": "stream",
     "text": [
      "Entire data (15029, 30)\n",
      "train set (9618, 30) (9618,)\n",
      "valid set (2405, 30) (2405,)\n",
      "test set (3006, 30) (3006,)\n"
     ]
    }
   ],
   "source": [
    "#train, test나누기\n",
    "\n",
    "from sklearn.model_selection import train_test_split\n",
    "\n",
    "train_data = df.drop(['price'], axis=1)\n",
    "target_data = df['price']\n",
    "\n",
    "x_train, x_test, y_train, y_test = train_test_split(train_data, target_data, random_state=1, test_size=0.2)\n",
    "\n",
    "#train set을 8:2로 다시 나누기(validation set)\n",
    "x_train, x_valid, y_train, y_valid = train_test_split(x_train, y_train, random_state=1, test_size=0.2)\n",
    "\n",
    "print('Entire data' , train_data.shape)\n",
    "print('train set' , x_train.shape, y_train.shape)\n",
    "print('valid set' , x_valid.shape, y_valid.shape)\n",
    "print('test set' , x_test.shape, y_test.shape)\n"
   ]
  },
  {
   "cell_type": "markdown",
   "metadata": {},
   "source": [
    "### 2. DecisionTreeRegressor"
   ]
  },
  {
   "cell_type": "code",
   "execution_count": 3,
   "metadata": {},
   "outputs": [
    {
     "name": "stdout",
     "output_type": "stream",
     "text": [
      "[12.84792916 13.21585554 13.25339339 ... 12.46837665 12.86618256\n",
      " 12.76554842]\n"
     ]
    }
   ],
   "source": [
    "from sklearn.tree import DecisionTreeRegressor\n",
    "\n",
    "tr = DecisionTreeRegressor(random_state=0)\n",
    "tr = tr.fit(x_train, y_train)\n",
    "\n",
    "tr_prediction = tr.predict(x_test)\n",
    "print(tr_prediction)"
   ]
  },
  {
   "cell_type": "code",
   "execution_count": 4,
   "metadata": {},
   "outputs": [
    {
     "data": {
      "text/html": [
       "<div>\n",
       "<style scoped>\n",
       "    .dataframe tbody tr th:only-of-type {\n",
       "        vertical-align: middle;\n",
       "    }\n",
       "\n",
       "    .dataframe tbody tr th {\n",
       "        vertical-align: top;\n",
       "    }\n",
       "\n",
       "    .dataframe thead th {\n",
       "        text-align: right;\n",
       "    }\n",
       "</style>\n",
       "<table border=\"1\" class=\"dataframe\">\n",
       "  <thead>\n",
       "    <tr style=\"text-align: right;\">\n",
       "      <th></th>\n",
       "      <th>Id</th>\n",
       "      <th>Price</th>\n",
       "    </tr>\n",
       "  </thead>\n",
       "  <tbody>\n",
       "    <tr>\n",
       "      <td>7929</td>\n",
       "      <td>7934</td>\n",
       "      <td>12.847929</td>\n",
       "    </tr>\n",
       "    <tr>\n",
       "      <td>8095</td>\n",
       "      <td>8100</td>\n",
       "      <td>13.215856</td>\n",
       "    </tr>\n",
       "    <tr>\n",
       "      <td>13412</td>\n",
       "      <td>13418</td>\n",
       "      <td>13.253393</td>\n",
       "    </tr>\n",
       "    <tr>\n",
       "      <td>5869</td>\n",
       "      <td>5873</td>\n",
       "      <td>12.765691</td>\n",
       "    </tr>\n",
       "    <tr>\n",
       "      <td>1955</td>\n",
       "      <td>1956</td>\n",
       "      <td>12.765620</td>\n",
       "    </tr>\n",
       "  </tbody>\n",
       "</table>\n",
       "</div>"
      ],
      "text/plain": [
       "          Id      Price\n",
       "7929    7934  12.847929\n",
       "8095    8100  13.215856\n",
       "13412  13418  13.253393\n",
       "5869    5873  12.765691\n",
       "1955    1956  12.765620"
      ]
     },
     "execution_count": 4,
     "metadata": {},
     "output_type": "execute_result"
    }
   ],
   "source": [
    "#csv 파일로 만들기(제출용)\n",
    "\n",
    "submit_tr = pd.DataFrame({\n",
    "    'Id' : x_test['id'],\n",
    "    'Price' : tr_prediction\n",
    "})\n",
    "submit_tr.to_csv('submit_tr.csv', index=False)\n",
    "submit_tr.head()"
   ]
  },
  {
   "cell_type": "markdown",
   "metadata": {},
   "source": [
    "### 3. Extra tree Regressor\n"
   ]
  },
  {
   "cell_type": "code",
   "execution_count": 5,
   "metadata": {},
   "outputs": [
    {
     "name": "stdout",
     "output_type": "stream",
     "text": [
      "[13.21767538 13.59236826 13.00583181 ... 13.74723279 12.89922233\n",
      " 12.73670384]\n"
     ]
    }
   ],
   "source": [
    "from sklearn.ensemble import ExtraTreesRegressor\n",
    "\n",
    "etr = ExtraTreesRegressor(n_estimators=100, random_state=0)\n",
    "etr = tr.fit(x_train, y_train)\n",
    "\n",
    "etr_prediction = tr.predict(x_valid)\n",
    "print(etr_prediction)"
   ]
  },
  {
   "cell_type": "markdown",
   "metadata": {},
   "source": [
    "### 4. Random Forest"
   ]
  },
  {
   "cell_type": "code",
   "execution_count": 6,
   "metadata": {},
   "outputs": [
    {
     "name": "stdout",
     "output_type": "stream",
     "text": [
      "[13.57495009 13.58023916 12.98551325 ... 13.64841186 12.88281997\n",
      " 12.89492845]\n"
     ]
    }
   ],
   "source": [
    "from sklearn.ensemble import RandomForestRegressor\n",
    "rf = RandomForestRegressor(n_estimators=100, random_state=0)\n",
    "rf.fit(x_train, y_train)\n",
    "\n",
    "rf_prediction = rf.predict(x_valid)\n",
    "print(rf_prediction)"
   ]
  },
  {
   "cell_type": "markdown",
   "metadata": {},
   "source": [
    "### 5. GradientBoostingRegressor"
   ]
  },
  {
   "cell_type": "code",
   "execution_count": 7,
   "metadata": {},
   "outputs": [
    {
     "name": "stdout",
     "output_type": "stream",
     "text": [
      "[13.48577522 13.70473072 13.14860391 ... 13.30727665 13.04130077\n",
      " 12.97602773]\n"
     ]
    }
   ],
   "source": [
    "from sklearn.ensemble import GradientBoostingRegressor\n",
    "\n",
    "# n_estimators=10 : 트리개수 #max_depth : 트리깊이 #learning_rate : 매개변수 각 트리 기여 정도\n",
    "\n",
    "gbr = GradientBoostingRegressor(max_depth=2, n_estimators=10, learning_rate=1.0)\n",
    "gbr.fit(x_train, y_train)\n",
    "\n",
    "gbr_prediction = gbr.predict(x_valid)\n",
    "print(gbr_prediction)"
   ]
  },
  {
   "cell_type": "code",
   "execution_count": 8,
   "metadata": {},
   "outputs": [
    {
     "data": {
      "text/plain": [
       "GradientBoostingRegressor(alpha=0.9, criterion='friedman_mse', init=None,\n",
       "                          learning_rate=0.1, loss='ls', max_depth=2,\n",
       "                          max_features=None, max_leaf_nodes=None,\n",
       "                          min_impurity_decrease=0.0, min_impurity_split=None,\n",
       "                          min_samples_leaf=1, min_samples_split=2,\n",
       "                          min_weight_fraction_leaf=0.0, n_estimators=9,\n",
       "                          n_iter_no_change=None, presort='auto',\n",
       "                          random_state=None, subsample=1.0, tol=0.0001,\n",
       "                          validation_fraction=0.1, verbose=0, warm_start=False)"
      ]
     },
     "execution_count": 8,
     "metadata": {},
     "output_type": "execute_result"
    }
   ],
   "source": [
    "#최적의 트리수 찾기\n",
    "\n",
    "import numpy as np\n",
    "from sklearn.metrics import mean_squared_error\n",
    "\n",
    "errors = [mean_squared_error(y_valid, y_test)\n",
    "         for y_test in gbr.staged_predict(x_valid)]\n",
    "\n",
    "best_estimators = np.argmin(errors)\n",
    "\n",
    "gbr_best = GradientBoostingRegressor(max_depth=2, n_estimators=best_estimators)\n",
    "gbr_best.fit(x_train, y_train)\n",
    "\n"
   ]
  },
  {
   "cell_type": "markdown",
   "metadata": {},
   "source": [
    "### 교차 검증"
   ]
  },
  {
   "cell_type": "code",
   "execution_count": 9,
   "metadata": {},
   "outputs": [
    {
     "name": "stdout",
     "output_type": "stream",
     "text": [
      "scores: [0.22705028 0.21553253 0.22574379 0.21648395 0.20305111 0.23388252\n",
      " 0.23039976 0.22533752 0.22381639 0.22213243]\n",
      "Mean: 0.222343026550511\n",
      "sd: 0.008341857951358066\n"
     ]
    }
   ],
   "source": [
    "#GradientBoostingRegressor\n",
    "\n",
    "from sklearn.model_selection import cross_val_score\n",
    "scores = cross_val_score(gbr, x_train, y_train, scoring=\"neg_mean_squared_error\", cv=10)\n",
    "tree_rmse_scores = np.sqrt(-scores)\n",
    "\n",
    "def display_scores(scores):\n",
    "    print(\"scores:\", scores)\n",
    "    print(\"Mean:\", scores.mean())\n",
    "    print(\"sd:\", scores.std())\n",
    "    \n",
    "display_scores(tree_rmse_scores)"
   ]
  },
  {
   "cell_type": "code",
   "execution_count": 10,
   "metadata": {},
   "outputs": [
    {
     "name": "stdout",
     "output_type": "stream",
     "text": [
      "scores: [0.17434332 0.18503678 0.18371628 0.16648251 0.17037943 0.19249187\n",
      " 0.17028484 0.18686053 0.19470254 0.18322377]\n",
      "Mean: 0.18075218713239363\n",
      "sd: 0.009299748824983384\n"
     ]
    }
   ],
   "source": [
    "#Decision tree regressor\n",
    "\n",
    "from sklearn.model_selection import cross_val_score\n",
    "scores = cross_val_score(tr, x_train, y_train, scoring=\"neg_mean_squared_error\", cv=10)\n",
    "tree_rmse_scores = np.sqrt(-scores)\n",
    "\n",
    "def display_scores(scores):\n",
    "    print(\"scores:\", scores)\n",
    "    print(\"Mean:\", scores.mean())\n",
    "    print(\"sd:\", scores.std())\n",
    "    \n",
    "display_scores(tree_rmse_scores)"
   ]
  },
  {
   "cell_type": "code",
   "execution_count": 11,
   "metadata": {},
   "outputs": [
    {
     "name": "stdout",
     "output_type": "stream",
     "text": [
      "scores: [0.17434332 0.18503678 0.18371628 0.16648251 0.17037943 0.19249187\n",
      " 0.17028484 0.18686053 0.19470254 0.18322377]\n",
      "Mean: 0.18075218713239363\n",
      "sd: 0.009299748824983384\n"
     ]
    }
   ],
   "source": [
    "#Extra trees regressor\n",
    "\n",
    "from sklearn.model_selection import cross_val_score\n",
    "scores = cross_val_score(etr, x_train, y_train, scoring=\"neg_mean_squared_error\", cv=10)\n",
    "tree_rmse_scores = np.sqrt(-scores)\n",
    "\n",
    "def display_scores(scores):\n",
    "    print(\"scores:\", scores)\n",
    "    print(\"Mean:\", scores.mean())\n",
    "    print(\"sd:\", scores.std())\n",
    "    \n",
    "display_scores(tree_rmse_scores)"
   ]
  },
  {
   "cell_type": "code",
   "execution_count": 12,
   "metadata": {},
   "outputs": [
    {
     "name": "stdout",
     "output_type": "stream",
     "text": [
      "scores: [0.12197025 0.11593468 0.13037086 0.11525481 0.11125026 0.12550622\n",
      " 0.11919303 0.12213945 0.12017168 0.11727162]\n",
      "Mean: 0.11990628701300862\n",
      "sd: 0.005195871471235793\n"
     ]
    }
   ],
   "source": [
    "#Random forest\n",
    "\n",
    "from sklearn.model_selection import cross_val_score\n",
    "scores = cross_val_score(rf, x_train, y_train, scoring=\"neg_mean_squared_error\", cv=10)\n",
    "tree_rmse_scores = np.sqrt(-scores)\n",
    "\n",
    "def display_scores(scores):\n",
    "    print(\"scores:\", scores)\n",
    "    print(\"Mean:\", scores.mean())\n",
    "    print(\"sd:\", scores.std())\n",
    "    \n",
    "display_scores(tree_rmse_scores)"
   ]
  },
  {
   "cell_type": "markdown",
   "metadata": {},
   "source": [
    "### 하이퍼파라미터 찾기(GridSearch 이용)"
   ]
  },
  {
   "cell_type": "code",
   "execution_count": 13,
   "metadata": {},
   "outputs": [
    {
     "name": "stdout",
     "output_type": "stream",
     "text": [
      "[13.49339626 13.5997739  12.90853463 ... 13.61077617 12.89318763\n",
      " 12.97726064]\n"
     ]
    }
   ],
   "source": [
    "from sklearn.model_selection import GridSearchCV\n",
    "\n",
    "param_grid = [\n",
    "    {'n_estimators':[3,10,30], 'max_features':[2,4,6,8]},\n",
    "    {'bootstrap':[False], 'n_estimators':[3,10], 'max_features':[2,3,4]},\n",
    "]\n",
    "\n",
    "forest_reg = RandomForestRegressor()\n",
    "\n",
    "grid_search = GridSearchCV(forest_reg, param_grid, cv=5, \n",
    "                          scoring='neg_mean_squared_error', \n",
    "                          return_train_score=True)\n",
    "\n",
    "grid_search.fit(x_train, y_train)\n",
    "\n",
    "prediction = grid_search.predict(x_valid)\n",
    "print(prediction)\n"
   ]
  },
  {
   "cell_type": "code",
   "execution_count": 14,
   "metadata": {},
   "outputs": [
    {
     "name": "stdout",
     "output_type": "stream",
     "text": [
      "[13.49339626 13.5997739  12.90853463 ... 13.61077617 12.89318763\n",
      " 12.97726064]\n"
     ]
    }
   ],
   "source": [
    "prediction = grid_search.predict(x_valid)\n",
    "print(prediction)\n"
   ]
  },
  {
   "cell_type": "code",
   "execution_count": 15,
   "metadata": {},
   "outputs": [
    {
     "data": {
      "text/plain": [
       "array([0.00392759, 0.00343134, 0.0049036 , 0.00157837, 0.02408105,\n",
       "       0.1950579 , 0.01033725, 0.00249196, 0.00204092, 0.00971156,\n",
       "       0.00295911, 0.11702857, 0.04792931, 0.00605788, 0.0119788 ,\n",
       "       0.00858086, 0.013671  , 0.22371303, 0.01776408, 0.06112228,\n",
       "       0.00808354, 0.01494849, 0.01344894, 0.06425692, 0.00449012,\n",
       "       0.01040319, 0.00063864, 0.06159694, 0.02238389, 0.03138286])"
      ]
     },
     "execution_count": 15,
     "metadata": {},
     "output_type": "execute_result"
    }
   ],
   "source": [
    "# 특성의 상대적 중요도 파악\n",
    "\n",
    "feature_importances = grid_search.best_estimator_.feature_importances_\n",
    "feature_importances\n",
    "\n"
   ]
  },
  {
   "cell_type": "markdown",
   "metadata": {},
   "source": [
    "### RandomizedSearchCV 이용"
   ]
  },
  {
   "cell_type": "code",
   "execution_count": 16,
   "metadata": {},
   "outputs": [],
   "source": [
    "# from sklearn.ensemble import RandomForestClassifier\n",
    "# rf = RandomForestClassifier()\n",
    "# rf_random = RandomizedSearchCV(\n",
    "#               estimator = rf, \n",
    "#               param_distributions = random_grid, \n",
    "#               n_iter = 100, \n",
    "#               cv = 3, \n",
    "#               verbose = False,\n",
    "#               scoring = make_scorer(precision_score),\n",
    "#               random_state=42, n_jobs = -1)\n",
    "\n",
    "# rf_random.fit(x_train, y_train)\n",
    "\n"
   ]
  },
  {
   "cell_type": "markdown",
   "metadata": {},
   "source": [
    "## 위도, 경도, zipcode"
   ]
  }
 ],
 "metadata": {
  "kernelspec": {
   "display_name": "Python 3",
   "language": "python",
   "name": "python3"
  },
  "language_info": {
   "codemirror_mode": {
    "name": "ipython",
    "version": 3
   },
   "file_extension": ".py",
   "mimetype": "text/x-python",
   "name": "python",
   "nbconvert_exporter": "python",
   "pygments_lexer": "ipython3",
   "version": "3.7.4"
  }
 },
 "nbformat": 4,
 "nbformat_minor": 2
}
